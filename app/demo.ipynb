{
 "cells": [
  {
   "cell_type": "code",
   "execution_count": 1,
   "metadata": {},
   "outputs": [],
   "source": [
    "%load_ext autoreload\n",
    "%autoreload 1\n",
    "%aimport market\n",
    "from room import Room\n",
    "from agent_delegater import BaseAgentDelegater"
   ]
  },
  {
   "cell_type": "code",
   "execution_count": 2,
   "metadata": {},
   "outputs": [
    {
     "name": "stderr",
     "output_type": "stream",
     "text": [
      "100%|██████████| 1/1 [00:00<00:00,  2.67it/s]\n",
      "100%|██████████| 1/1 [00:00<00:00, 10.26it/s]\n"
     ]
    },
    {
     "name": "stdout",
     "output_type": "stream",
     "text": [
      "163 98\n"
     ]
    }
   ],
   "source": [
    "\n",
    "room = Room()\n"
   ]
  },
  {
   "cell_type": "code",
   "execution_count": 3,
   "metadata": {},
   "outputs": [],
   "source": [
    "# room.index_store.add_node_embeddings()"
   ]
  },
  {
   "cell_type": "code",
   "execution_count": 4,
   "metadata": {},
   "outputs": [],
   "source": [
    "# print(room.index_store.index_nodes[0])"
   ]
  },
  {
   "cell_type": "code",
   "execution_count": 5,
   "metadata": {},
   "outputs": [
    {
     "name": "stdout",
     "output_type": "stream",
     "text": [
      "<langchain.vectorstores.faiss.FAISS object at 0x159e11450>\n"
     ]
    }
   ],
   "source": [
    "print(room.index_store.node_vector_store)"
   ]
  },
  {
   "cell_type": "code",
   "execution_count": 6,
   "metadata": {},
   "outputs": [
    {
     "name": "stdout",
     "output_type": "stream",
     "text": [
      "[(Document(page_content='德恩精工', metadata={'node_id': '-5715628551663223860'}), 0.0), (Document(page_content='东莞捷荣模具制造工业有限公司', metadata={'node_id': '1820658998594346237'}), 0.30783057), (Document(page_content='精伦电子', metadata={'node_id': '-3232971585479397085'}), 0.31345963), (Document(page_content='精密模具', metadata={'node_id': '-2064289296388941708'}), 0.31538358)]\n",
      "[IndexNode(id='-5715628551663223860', embedding=None, content='德恩精工'), IndexNode(id='1820658998594346237', embedding=None, content='东莞捷荣模具制造工业有限公司'), IndexNode(id='-3232971585479397085', embedding=None, content='精伦电子'), IndexNode(id='-2064289296388941708', embedding=None, content='精密模具')]\n"
     ]
    }
   ],
   "source": [
    "print(room.index_store.search_nodes('德恩精工'))"
   ]
  },
  {
   "cell_type": "code",
   "execution_count": 11,
   "metadata": {},
   "outputs": [
    {
     "name": "stdout",
     "output_type": "stream",
     "text": [
      "[\n",
      "uid: Senior Trader_ef671830f22244b697278410b93f1fc9\n",
      "cash:10913.94906294841, cost:9.99533722795529, share:598.3872973364373, \n",
      "uid: Senior Trader_c6c5d55cd3a746d883b939b60817f957\n",
      "cash:11407.103644273127, cost:8.79311760152187, share:1064.6169242718054, \n",
      "uid: Senior Trader_6c3787d9bf394931b84ad7203c301f09\n",
      "cash:12256.676510656147, cost:10.128576017914657, share:957.5296266964665, \n",
      "uid: Senior Trader_2725ec851c2648bdb11dababbf77861f\n",
      "cash:9914.01260287777, cost:11.682867057085563, share:610.0601035568043, \n",
      "uid: Senior Trader_2bc465878ff2499b916c31439262c168\n",
      "cash:12193.771422823942, cost:6.339924683209443, share:1234.8068109983983, \n",
      "uid: Beginner Trader_53b6fb841aae497a96cade3f39c73863\n",
      "cash:11279.831881291802, cost:8.79921577006058, share:1123.8016970751821, \n",
      "uid: Beginner Trader_77325070e2964693a4aef51e4e373509\n",
      "cash:9437.408290342162, cost:9.893656895247586, share:951.7927457276166, \n",
      "uid: Beginner Trader_d246758a2f0a4486ae4d1bba1025052f\n",
      "cash:12524.173194059442, cost:11.254474523696771, share:1034.5797463939587, \n",
      "uid: Beginner Trader_71a58e85ac4a4860bbdb3afece482d75\n",
      "cash:10784.569332452926, cost:10.305525104354505, share:1063.1786393902908, \n",
      "uid: Beginner Trader_83bc17a580634ff9bfdb5d512068b560\n",
      "cash:8594.407004491402, cost:7.484289097428293, share:901.3971705885346, \n",
      "uid: FUND MANAGER_bc6710d840ca417db8e734cf7faf1e4e\n",
      "cash:5893.53972025977, cost:8.025275506428699, share:1082.7279430811486, \n",
      "uid: FUND MANAGER_c6ab41b9086c4ea3a848e3728eb5b9d3\n",
      "cash:12019.98905141493, cost:7.9651033284126225, share:1068.9513248504031, \n",
      "uid: FUND MANAGER_35124b8bb8744224a526a32f8fc07385\n",
      "cash:10664.113391316552, cost:9.693133498976758, share:1049.3595401571058, \n",
      "uid: FUND MANAGER_e73c138c83a6443386eaf71efe314e77\n",
      "cash:12512.970540639932, cost:9.135588504371762, share:868.2135570022513, \n",
      "uid: FUND MANAGER_db46ed0fb98243268d3edb79496ff409\n",
      "cash:9639.073421652398, cost:10.504543873946673, share:461.759350887716]\n"
     ]
    }
   ],
   "source": [
    "delegater = BaseAgentDelegater()\n",
    "# delegater._init_agents(cls = BeginnerTrader, size = 10)\n",
    "print(delegater.agents)\n",
    "delegater._init_stock_info(\n",
    "    fundamental_info_prompt=room.fundamental_info.to_prompt(),\n",
    "    tech_info_prompt=room.stock_tech_info.to_prompt(),\n",
    "    price = room.stock_tech_info.get_price_by_freq_and_index()\n",
    ")\n",
    "all_orders = delegater.predict_belief()"
   ]
  },
  {
   "cell_type": "code",
   "execution_count": 12,
   "metadata": {},
   "outputs": [
    {
     "name": "stdout",
     "output_type": "stream",
     "text": [
      "last match order: 48.784\n"
     ]
    }
   ],
   "source": [
    "\n",
    "\n",
    "from market import StockExchange\n",
    "# import importlib\n",
    "# importlib.reload(market)\n",
    "market = StockExchange()\n",
    "for item in all_orders:\n",
    "    market.add_order(item)\n",
    "market.match_orders()\n",
    "print('last match order:', market.last_traded_price)\n"
   ]
  },
  {
   "cell_type": "code",
   "execution_count": null,
   "metadata": {},
   "outputs": [],
   "source": []
  }
 ],
 "metadata": {
  "kernelspec": {
   "display_name": "quant_gpt",
   "language": "python",
   "name": "python3"
  },
  "language_info": {
   "codemirror_mode": {
    "name": "ipython",
    "version": 3
   },
   "file_extension": ".py",
   "mimetype": "text/x-python",
   "name": "python",
   "nbconvert_exporter": "python",
   "pygments_lexer": "ipython3",
   "version": "3.11.4"
  },
  "orig_nbformat": 4
 },
 "nbformat": 4,
 "nbformat_minor": 2
}

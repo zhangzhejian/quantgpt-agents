{
 "cells": [
  {
   "cell_type": "code",
   "execution_count": 1,
   "metadata": {},
   "outputs": [],
   "source": [
    "%load_ext autoreload\n",
    "%autoreload 1\n",
    "%aimport market\n",
    "from room import Room\n",
    "from agent_delegater import BaseAgentDelegater"
   ]
  },
  {
   "cell_type": "code",
   "execution_count": 2,
   "metadata": {},
   "outputs": [
    {
     "name": "stderr",
     "output_type": "stream",
     "text": [
      "100%|██████████| 1/1 [00:00<00:00,  3.13it/s]\n",
      "100%|██████████| 1/1 [00:00<00:00, 11.95it/s]\n"
     ]
    },
    {
     "name": "stdout",
     "output_type": "stream",
     "text": [
      "163 98\n"
     ]
    }
   ],
   "source": [
    "\n",
    "room = Room()\n"
   ]
  },
  {
   "cell_type": "code",
   "execution_count": 5,
   "metadata": {},
   "outputs": [
    {
     "name": "stdout",
     "output_type": "stream",
     "text": [
      "<langchain.vectorstores.faiss.FAISS object at 0x15a2e24d0>\n"
     ]
    }
   ],
   "source": [
    "print(room.index_store.node_vector_store)"
   ]
  },
  {
   "cell_type": "code",
   "execution_count": 6,
   "metadata": {},
   "outputs": [
    {
     "name": "stdout",
     "output_type": "stream",
     "text": [
      "[(Document(page_content='德恩精工', metadata={'node_id': '-5715628551663223860'}), 3.3888425e-06), (Document(page_content='东莞捷荣模具制造工业有限公司', metadata={'node_id': '1820658998594346237'}), 0.30786487), (Document(page_content='精伦电子', metadata={'node_id': '-3232971585479397085'}), 0.3127393), (Document(page_content='精密模具', metadata={'node_id': '-2064289296388941708'}), 0.315022)]\n",
      "[IndexNode(id='-5715628551663223860', embedding=None, content='德恩精工'), IndexNode(id='1820658998594346237', embedding=None, content='东莞捷荣模具制造工业有限公司'), IndexNode(id='-3232971585479397085', embedding=None, content='精伦电子'), IndexNode(id='-2064289296388941708', embedding=None, content='精密模具')]\n"
     ]
    }
   ],
   "source": [
    "print(room.index_store.search_nodes('德恩精工'))"
   ]
  },
  {
   "cell_type": "code",
   "execution_count": 7,
   "metadata": {},
   "outputs": [
    {
     "name": "stdout",
     "output_type": "stream",
     "text": [
      "[Order(uid='Senior Trader_fa5041a586d4413a921c76fe69a3e14f', action='buy', price=48.848, share=117), Order(uid='Senior Trader_e3f73c726fb54ffea313dca352d691cd', action='buy', price=48.406, share=114), Order(uid='Senior Trader_b31cceb0192544919ab6eb19fdb418e2', action='buy', price=48.49, share=68), Order(uid='Senior Trader_a7ed38cce1664dbbb11d7f9417f11168', action='buy', price=48.823, share=113), Order(uid='Senior Trader_db9046bcb0714fdd8f9787fde2a59e64', action='buy', price=47.444, share=99), Order(uid='Beginner Trader_335db523902046ff8ac1c772b0805b95', action='buy', price=48.839, share=98), Order(uid='Beginner Trader_a9c683ced4614888ac2217060cd2e413', action='buy', price=48.956, share=78), Order(uid='Beginner Trader_c04c049e684947b2ab204343d6b5cde5', action='buy', price=48.219, share=97), Order(uid='Beginner Trader_d3aec3336e4f4c599ace6e231bb9eef5', action='buy', price=49.062, share=66), Order(uid='Beginner Trader_b53e663ece9c4b47bbf363044a3fec7d', action='buy', price=47.691, share=129), Order(uid='FUND MANAGER_be9ffa44bc7443889620cb08480de0e2', action='buy', price=47.746, share=224), Order(uid='FUND MANAGER_cfa36ac7bbe346be8e30767139376308', action='buy', price=48.17, share=113), Order(uid='FUND MANAGER_b3be1fae216640af91dcb195fc825d23', action='buy', price=49.056, share=154), Order(uid='FUND MANAGER_49876b19efcb42b8982f407faa127232', action='buy', price=47.65, share=218), Order(uid='FUND MANAGER_9b92901da9924f3da6143cb8e4870d13', action='buy', price=48.569, share=191)]\n"
     ]
    }
   ],
   "source": [
    "delegater = BaseAgentDelegater()\n",
    "# delegater._init_agents(cls = BeginnerTrader, size = 10)\n",
    "delegater._init_stock_info(\n",
    "    fundamental_info_prompt=room.fundamental_info.to_prompt(),\n",
    "    tech_info_prompt=room.stock_tech_info.to_prompt(),\n",
    "    price = room.stock_tech_info.get_price_by_freq_and_index()\n",
    ")\n",
    "all_orders = delegater.predict_belief()\n",
    "print(all_orders)"
   ]
  },
  {
   "cell_type": "code",
   "execution_count": 9,
   "metadata": {},
   "outputs": [
    {
     "name": "stdout",
     "output_type": "stream",
     "text": [
      "last match order: None\n",
      "last trade price: 49.062\n"
     ]
    }
   ],
   "source": [
    "\n",
    "\n",
    "from market import StockExchange\n",
    "# import importlib\n",
    "# importlib.reload(market)\n",
    "market = StockExchange()\n",
    "for item in all_orders:\n",
    "    market.add_order(item)\n",
    "market.match_orders()\n",
    "print('last match order:', market.last_traded_price)\n",
    "if market.last_traded_price is None:\n",
    "    print('last trade price:',max([item.price for item in market.buy_orders]))\n"
   ]
  },
  {
   "cell_type": "code",
   "execution_count": null,
   "metadata": {},
   "outputs": [],
   "source": []
  }
 ],
 "metadata": {
  "kernelspec": {
   "display_name": "quant_gpt",
   "language": "python",
   "name": "python3"
  },
  "language_info": {
   "codemirror_mode": {
    "name": "ipython",
    "version": 3
   },
   "file_extension": ".py",
   "mimetype": "text/x-python",
   "name": "python",
   "nbconvert_exporter": "python",
   "pygments_lexer": "ipython3",
   "version": "3.11.4"
  },
  "orig_nbformat": 4
 },
 "nbformat": 4,
 "nbformat_minor": 2
}
